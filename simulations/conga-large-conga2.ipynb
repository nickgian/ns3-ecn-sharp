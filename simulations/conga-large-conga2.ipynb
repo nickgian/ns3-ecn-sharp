{
 "cells": [
  {
   "cell_type": "markdown",
   "metadata": {},
   "source": [
    "# Conga on conga-large-sim, for various traffic loads.\n",
    "Smaller hostile flow, and more optimized selection of on/off times and rate based on average throughputs."
   ]
  },
  {
   "cell_type": "code",
   "execution_count": 2,
   "metadata": {},
   "outputs": [],
   "source": [
    "%matplotlib inline\n",
    "%load_ext autoreload"
   ]
  },
  {
   "cell_type": "code",
   "execution_count": 3,
   "metadata": {
    "scrolled": true
   },
   "outputs": [],
   "source": [
    "%autoreload\n",
    "import pandas as pd\n",
    "import numpy as np\n",
    "from parseXml import *\n",
    "from parseFlows import *\n",
    "from plotInfo import *"
   ]
  },
  {
   "cell_type": "code",
   "execution_count": 4,
   "metadata": {},
   "outputs": [],
   "source": [
    "import os \n",
    "\n",
    "directory = \"/Users/gian/Documents/Madison/simulations/simCongaConga2\"\n",
    "os.chdir(directory)\n",
    "sim = []\n",
    "for filename in os.listdir(directory):\n",
    "    if filename.endswith(\".xml\"):\n",
    "        sim.append(parseCongaSimulationFiles(filename))"
   ]
  },
  {
   "cell_type": "code",
   "execution_count": 6,
   "metadata": {},
   "outputs": [],
   "source": [
    "df = buildCongaPanda(sim)\n",
    "# details = sim[0][2]\n",
    "df = df.sort_values('AvgFct', ascending=False)\n",
    "# df = df[(df.rate.isin(['0','2000'])) & (~df.onTime.isin(['100']))]\n",
    "#df = df[(df.AttackerFlows.isin(['2'])) | (df.offTime.isin(['0']))]\n",
    "#df = df[(df.offTime.isin(['0','200']))]"
   ]
  },
  {
   "cell_type": "code",
   "execution_count": 7,
   "metadata": {},
   "outputs": [
    {
     "output_type": "execute_result",
     "data": {
      "text/plain": [
       "<pandas.io.formats.style.Styler at 0x126ccb940>"
      ],
      "text/html": "<style  type=\"text/css\" >\n#T_07c2c288_3690_11eb_b38b_367dda732f87row0_col0,#T_07c2c288_3690_11eb_b38b_367dda732f87row0_col1,#T_07c2c288_3690_11eb_b38b_367dda732f87row0_col2,#T_07c2c288_3690_11eb_b38b_367dda732f87row0_col3,#T_07c2c288_3690_11eb_b38b_367dda732f87row0_col4,#T_07c2c288_3690_11eb_b38b_367dda732f87row0_col5,#T_07c2c288_3690_11eb_b38b_367dda732f87row0_col8,#T_07c2c288_3690_11eb_b38b_367dda732f87row0_col10,#T_07c2c288_3690_11eb_b38b_367dda732f87row0_col11,#T_07c2c288_3690_11eb_b38b_367dda732f87row0_col12,#T_07c2c288_3690_11eb_b38b_367dda732f87row0_col13,#T_07c2c288_3690_11eb_b38b_367dda732f87row0_col14,#T_07c2c288_3690_11eb_b38b_367dda732f87row0_col15{\n            background:  #71A6D1;\n        }#T_07c2c288_3690_11eb_b38b_367dda732f87row0_col6,#T_07c2c288_3690_11eb_b38b_367dda732f87row0_col7,#T_07c2c288_3690_11eb_b38b_367dda732f87row0_col9{\n            background-color: #61B65F;\n            background:  #71A6D1;\n        }</style><table id=\"T_07c2c288_3690_11eb_b38b_367dda732f87\" ><caption>yellow: 10%, red:20%, green: less than baseline</caption><thead>    <tr>        <th class=\"blank level0\" ></th>        <th class=\"col_heading level0 col0\" >offTime</th>        <th class=\"col_heading level0 col1\" >onTime</th>        <th class=\"col_heading level0 col2\" >load</th>        <th class=\"col_heading level0 col3\" >AttackerRate</th>        <th class=\"col_heading level0 col4\" >flowlet</th>        <th class=\"col_heading level0 col5\" >AttackerProt</th>        <th class=\"col_heading level0 col6\" >AvgFct</th>        <th class=\"col_heading level0 col7\" >SmallAvgFct</th>        <th class=\"col_heading level0 col8\" >Tail99</th>        <th class=\"col_heading level0 col9\" >LargeAvgFct</th>        <th class=\"col_heading level0 col10\" >BufferDroppedPackets</th>        <th class=\"col_heading level0 col11\" >AttackerSendPackets</th>        <th class=\"col_heading level0 col12\" >AttackerLargeAvgFct</th>        <th class=\"col_heading level0 col13\" >AvgThroughput</th>        <th class=\"col_heading level0 col14\" >SmallAvgThroughput</th>        <th class=\"col_heading level0 col15\" >LargeAvgThroughput</th>    </tr></thead><tbody>\n                <tr>\n                        <th id=\"T_07c2c288_3690_11eb_b38b_367dda732f87level0_row0\" class=\"row_heading level0 row0\" >3</th>\n                        <td id=\"T_07c2c288_3690_11eb_b38b_367dda732f87row0_col0\" class=\"data row0 col0\" >0</td>\n                        <td id=\"T_07c2c288_3690_11eb_b38b_367dda732f87row0_col1\" class=\"data row0 col1\" >1</td>\n                        <td id=\"T_07c2c288_3690_11eb_b38b_367dda732f87row0_col2\" class=\"data row0 col2\" >0.2</td>\n                        <td id=\"T_07c2c288_3690_11eb_b38b_367dda732f87row0_col3\" class=\"data row0 col3\" >2000</td>\n                        <td id=\"T_07c2c288_3690_11eb_b38b_367dda732f87row0_col4\" class=\"data row0 col4\" >150</td>\n                        <td id=\"T_07c2c288_3690_11eb_b38b_367dda732f87row0_col5\" class=\"data row0 col5\" >Tcp</td>\n                        <td id=\"T_07c2c288_3690_11eb_b38b_367dda732f87row0_col6\" class=\"data row0 col6\" >0.007170</td>\n                        <td id=\"T_07c2c288_3690_11eb_b38b_367dda732f87row0_col7\" class=\"data row0 col7\" >0.001872</td>\n                        <td id=\"T_07c2c288_3690_11eb_b38b_367dda732f87row0_col8\" class=\"data row0 col8\" >0.014368</td>\n                        <td id=\"T_07c2c288_3690_11eb_b38b_367dda732f87row0_col9\" class=\"data row0 col9\" >0.052482</td>\n                        <td id=\"T_07c2c288_3690_11eb_b38b_367dda732f87row0_col10\" class=\"data row0 col10\" >153,229</td>\n                        <td id=\"T_07c2c288_3690_11eb_b38b_367dda732f87row0_col11\" class=\"data row0 col11\" >203,842</td>\n                        <td id=\"T_07c2c288_3690_11eb_b38b_367dda732f87row0_col12\" class=\"data row0 col12\" >0.427421</td>\n                        <td id=\"T_07c2c288_3690_11eb_b38b_367dda732f87row0_col13\" class=\"data row0 col13\" >711.994757</td>\n                        <td id=\"T_07c2c288_3690_11eb_b38b_367dda732f87row0_col14\" class=\"data row0 col14\" >207.597998</td>\n                        <td id=\"T_07c2c288_3690_11eb_b38b_367dda732f87row0_col15\" class=\"data row0 col15\" >3434.927301</td>\n            </tr>\n    </tbody></table>"
     },
     "metadata": {},
     "execution_count": 7
    }
   ],
   "source": [
    "df2 = df[(df.load == '0.2')]\n",
    "showConga(df2, \"yellow: 10%, red:20%, green: less than baseline\")"
   ]
  },
  {
   "cell_type": "code",
   "execution_count": 8,
   "metadata": {},
   "outputs": [
    {
     "output_type": "execute_result",
     "data": {
      "text/plain": [
       "<pandas.io.formats.style.Styler at 0x12b601b50>"
      ],
      "text/html": "<style  type=\"text/css\" >\n#T_07c8ea96_3690_11eb_b38b_367dda732f87row0_col0,#T_07c8ea96_3690_11eb_b38b_367dda732f87row0_col1,#T_07c8ea96_3690_11eb_b38b_367dda732f87row0_col2,#T_07c8ea96_3690_11eb_b38b_367dda732f87row0_col3,#T_07c8ea96_3690_11eb_b38b_367dda732f87row0_col4,#T_07c8ea96_3690_11eb_b38b_367dda732f87row0_col5,#T_07c8ea96_3690_11eb_b38b_367dda732f87row0_col8,#T_07c8ea96_3690_11eb_b38b_367dda732f87row0_col10,#T_07c8ea96_3690_11eb_b38b_367dda732f87row0_col11,#T_07c8ea96_3690_11eb_b38b_367dda732f87row0_col12,#T_07c8ea96_3690_11eb_b38b_367dda732f87row0_col13,#T_07c8ea96_3690_11eb_b38b_367dda732f87row0_col14,#T_07c8ea96_3690_11eb_b38b_367dda732f87row0_col15{\n            background:  #71A6D1;\n        }#T_07c8ea96_3690_11eb_b38b_367dda732f87row0_col6,#T_07c8ea96_3690_11eb_b38b_367dda732f87row0_col7,#T_07c8ea96_3690_11eb_b38b_367dda732f87row0_col9{\n            background-color: #61B65F;\n            background:  #71A6D1;\n        }</style><table id=\"T_07c8ea96_3690_11eb_b38b_367dda732f87\" ><caption>yellow: 10%, red:20%, green: less than baseline</caption><thead>    <tr>        <th class=\"blank level0\" ></th>        <th class=\"col_heading level0 col0\" >offTime</th>        <th class=\"col_heading level0 col1\" >onTime</th>        <th class=\"col_heading level0 col2\" >load</th>        <th class=\"col_heading level0 col3\" >AttackerRate</th>        <th class=\"col_heading level0 col4\" >flowlet</th>        <th class=\"col_heading level0 col5\" >AttackerProt</th>        <th class=\"col_heading level0 col6\" >AvgFct</th>        <th class=\"col_heading level0 col7\" >SmallAvgFct</th>        <th class=\"col_heading level0 col8\" >Tail99</th>        <th class=\"col_heading level0 col9\" >LargeAvgFct</th>        <th class=\"col_heading level0 col10\" >BufferDroppedPackets</th>        <th class=\"col_heading level0 col11\" >AttackerSendPackets</th>        <th class=\"col_heading level0 col12\" >AttackerLargeAvgFct</th>        <th class=\"col_heading level0 col13\" >AvgThroughput</th>        <th class=\"col_heading level0 col14\" >SmallAvgThroughput</th>        <th class=\"col_heading level0 col15\" >LargeAvgThroughput</th>    </tr></thead><tbody>\n                <tr>\n                        <th id=\"T_07c8ea96_3690_11eb_b38b_367dda732f87level0_row0\" class=\"row_heading level0 row0\" >0</th>\n                        <td id=\"T_07c8ea96_3690_11eb_b38b_367dda732f87row0_col0\" class=\"data row0 col0\" >0</td>\n                        <td id=\"T_07c8ea96_3690_11eb_b38b_367dda732f87row0_col1\" class=\"data row0 col1\" >1</td>\n                        <td id=\"T_07c8ea96_3690_11eb_b38b_367dda732f87row0_col2\" class=\"data row0 col2\" >0.5</td>\n                        <td id=\"T_07c8ea96_3690_11eb_b38b_367dda732f87row0_col3\" class=\"data row0 col3\" >2000</td>\n                        <td id=\"T_07c8ea96_3690_11eb_b38b_367dda732f87row0_col4\" class=\"data row0 col4\" >150</td>\n                        <td id=\"T_07c8ea96_3690_11eb_b38b_367dda732f87row0_col5\" class=\"data row0 col5\" >Tcp</td>\n                        <td id=\"T_07c8ea96_3690_11eb_b38b_367dda732f87row0_col6\" class=\"data row0 col6\" >0.011717</td>\n                        <td id=\"T_07c8ea96_3690_11eb_b38b_367dda732f87row0_col7\" class=\"data row0 col7\" >0.002892</td>\n                        <td id=\"T_07c8ea96_3690_11eb_b38b_367dda732f87row0_col8\" class=\"data row0 col8\" >0.021549</td>\n                        <td id=\"T_07c8ea96_3690_11eb_b38b_367dda732f87row0_col9\" class=\"data row0 col9\" >0.086592</td>\n                        <td id=\"T_07c8ea96_3690_11eb_b38b_367dda732f87row0_col10\" class=\"data row0 col10\" >247,684</td>\n                        <td id=\"T_07c8ea96_3690_11eb_b38b_367dda732f87row0_col11\" class=\"data row0 col11\" >334,081</td>\n                        <td id=\"T_07c8ea96_3690_11eb_b38b_367dda732f87row0_col12\" class=\"data row0 col12\" >0.664043</td>\n                        <td id=\"T_07c8ea96_3690_11eb_b38b_367dda732f87row0_col13\" class=\"data row0 col13\" >465.398967</td>\n                        <td id=\"T_07c8ea96_3690_11eb_b38b_367dda732f87row0_col14\" class=\"data row0 col14\" >151.046288</td>\n                        <td id=\"T_07c8ea96_3690_11eb_b38b_367dda732f87row0_col15\" class=\"data row0 col15\" >1974.579189</td>\n            </tr>\n    </tbody></table>"
     },
     "metadata": {},
     "execution_count": 8
    }
   ],
   "source": [
    "df5 = df[(df.load == '0.5')]\n",
    "showConga(df5, \"yellow: 10%, red:20%, green: less than baseline\")"
   ]
  },
  {
   "cell_type": "code",
   "execution_count": 9,
   "metadata": {},
   "outputs": [
    {
     "output_type": "execute_result",
     "data": {
      "text/plain": [
       "<pandas.io.formats.style.Styler at 0x12b5fa250>"
      ],
      "text/html": "<style  type=\"text/css\" >\n#T_07cec5e2_3690_11eb_b38b_367dda732f87row0_col0,#T_07cec5e2_3690_11eb_b38b_367dda732f87row0_col1,#T_07cec5e2_3690_11eb_b38b_367dda732f87row0_col2,#T_07cec5e2_3690_11eb_b38b_367dda732f87row0_col3,#T_07cec5e2_3690_11eb_b38b_367dda732f87row0_col4,#T_07cec5e2_3690_11eb_b38b_367dda732f87row0_col5,#T_07cec5e2_3690_11eb_b38b_367dda732f87row0_col8,#T_07cec5e2_3690_11eb_b38b_367dda732f87row0_col10,#T_07cec5e2_3690_11eb_b38b_367dda732f87row0_col11,#T_07cec5e2_3690_11eb_b38b_367dda732f87row0_col12,#T_07cec5e2_3690_11eb_b38b_367dda732f87row0_col13,#T_07cec5e2_3690_11eb_b38b_367dda732f87row0_col14,#T_07cec5e2_3690_11eb_b38b_367dda732f87row0_col15{\n            background:  #71A6D1;\n        }#T_07cec5e2_3690_11eb_b38b_367dda732f87row0_col6,#T_07cec5e2_3690_11eb_b38b_367dda732f87row0_col7,#T_07cec5e2_3690_11eb_b38b_367dda732f87row0_col9{\n            background-color: #61B65F;\n            background:  #71A6D1;\n        }</style><table id=\"T_07cec5e2_3690_11eb_b38b_367dda732f87\" ><caption>yellow: 10%, red:20%, green: less than baseline</caption><thead>    <tr>        <th class=\"blank level0\" ></th>        <th class=\"col_heading level0 col0\" >offTime</th>        <th class=\"col_heading level0 col1\" >onTime</th>        <th class=\"col_heading level0 col2\" >load</th>        <th class=\"col_heading level0 col3\" >AttackerRate</th>        <th class=\"col_heading level0 col4\" >flowlet</th>        <th class=\"col_heading level0 col5\" >AttackerProt</th>        <th class=\"col_heading level0 col6\" >AvgFct</th>        <th class=\"col_heading level0 col7\" >SmallAvgFct</th>        <th class=\"col_heading level0 col8\" >Tail99</th>        <th class=\"col_heading level0 col9\" >LargeAvgFct</th>        <th class=\"col_heading level0 col10\" >BufferDroppedPackets</th>        <th class=\"col_heading level0 col11\" >AttackerSendPackets</th>        <th class=\"col_heading level0 col12\" >AttackerLargeAvgFct</th>        <th class=\"col_heading level0 col13\" >AvgThroughput</th>        <th class=\"col_heading level0 col14\" >SmallAvgThroughput</th>        <th class=\"col_heading level0 col15\" >LargeAvgThroughput</th>    </tr></thead><tbody>\n                <tr>\n                        <th id=\"T_07cec5e2_3690_11eb_b38b_367dda732f87level0_row0\" class=\"row_heading level0 row0\" >2</th>\n                        <td id=\"T_07cec5e2_3690_11eb_b38b_367dda732f87row0_col0\" class=\"data row0 col0\" >0</td>\n                        <td id=\"T_07cec5e2_3690_11eb_b38b_367dda732f87row0_col1\" class=\"data row0 col1\" >1</td>\n                        <td id=\"T_07cec5e2_3690_11eb_b38b_367dda732f87row0_col2\" class=\"data row0 col2\" >0.7</td>\n                        <td id=\"T_07cec5e2_3690_11eb_b38b_367dda732f87row0_col3\" class=\"data row0 col3\" >2000</td>\n                        <td id=\"T_07cec5e2_3690_11eb_b38b_367dda732f87row0_col4\" class=\"data row0 col4\" >150</td>\n                        <td id=\"T_07cec5e2_3690_11eb_b38b_367dda732f87row0_col5\" class=\"data row0 col5\" >Tcp</td>\n                        <td id=\"T_07cec5e2_3690_11eb_b38b_367dda732f87row0_col6\" class=\"data row0 col6\" >0.019478</td>\n                        <td id=\"T_07cec5e2_3690_11eb_b38b_367dda732f87row0_col7\" class=\"data row0 col7\" >0.004748</td>\n                        <td id=\"T_07cec5e2_3690_11eb_b38b_367dda732f87row0_col8\" class=\"data row0 col8\" >0.029445</td>\n                        <td id=\"T_07cec5e2_3690_11eb_b38b_367dda732f87row0_col9\" class=\"data row0 col9\" >0.157143</td>\n                        <td id=\"T_07cec5e2_3690_11eb_b38b_367dda732f87row0_col10\" class=\"data row0 col10\" >277,033</td>\n                        <td id=\"T_07cec5e2_3690_11eb_b38b_367dda732f87row0_col11\" class=\"data row0 col11\" >397,650</td>\n                        <td id=\"T_07cec5e2_3690_11eb_b38b_367dda732f87row0_col12\" class=\"data row0 col12\" >0.721447</td>\n                        <td id=\"T_07cec5e2_3690_11eb_b38b_367dda732f87row0_col13\" class=\"data row0 col13\" >301.890530</td>\n                        <td id=\"T_07cec5e2_3690_11eb_b38b_367dda732f87row0_col14\" class=\"data row0 col14\" >99.017092</td>\n                        <td id=\"T_07cec5e2_3690_11eb_b38b_367dda732f87row0_col15\" class=\"data row0 col15\" >1120.045621</td>\n            </tr>\n    </tbody></table>"
     },
     "metadata": {},
     "execution_count": 9
    }
   ],
   "source": [
    "df7 = df[(df.load == '0.7')]\n",
    "showConga(df7, \"yellow: 10%, red:20%, green: less than baseline\")"
   ]
  },
  {
   "cell_type": "code",
   "execution_count": 10,
   "metadata": {},
   "outputs": [
    {
     "output_type": "execute_result",
     "data": {
      "text/plain": [
       "<pandas.io.formats.style.Styler at 0x12b601a60>"
      ],
      "text/html": "<style  type=\"text/css\" >\n#T_07d691e6_3690_11eb_b38b_367dda732f87row0_col0,#T_07d691e6_3690_11eb_b38b_367dda732f87row0_col1,#T_07d691e6_3690_11eb_b38b_367dda732f87row0_col2,#T_07d691e6_3690_11eb_b38b_367dda732f87row0_col3,#T_07d691e6_3690_11eb_b38b_367dda732f87row0_col4,#T_07d691e6_3690_11eb_b38b_367dda732f87row0_col5,#T_07d691e6_3690_11eb_b38b_367dda732f87row0_col8,#T_07d691e6_3690_11eb_b38b_367dda732f87row0_col10,#T_07d691e6_3690_11eb_b38b_367dda732f87row0_col11,#T_07d691e6_3690_11eb_b38b_367dda732f87row0_col12,#T_07d691e6_3690_11eb_b38b_367dda732f87row0_col13,#T_07d691e6_3690_11eb_b38b_367dda732f87row0_col14,#T_07d691e6_3690_11eb_b38b_367dda732f87row0_col15{\n            background:  #71A6D1;\n        }#T_07d691e6_3690_11eb_b38b_367dda732f87row0_col6,#T_07d691e6_3690_11eb_b38b_367dda732f87row0_col7,#T_07d691e6_3690_11eb_b38b_367dda732f87row0_col9{\n            background-color: #61B65F;\n            background:  #71A6D1;\n        }</style><table id=\"T_07d691e6_3690_11eb_b38b_367dda732f87\" ><caption>yellow: 10%, red:20%, green: less than baseline</caption><thead>    <tr>        <th class=\"blank level0\" ></th>        <th class=\"col_heading level0 col0\" >offTime</th>        <th class=\"col_heading level0 col1\" >onTime</th>        <th class=\"col_heading level0 col2\" >load</th>        <th class=\"col_heading level0 col3\" >AttackerRate</th>        <th class=\"col_heading level0 col4\" >flowlet</th>        <th class=\"col_heading level0 col5\" >AttackerProt</th>        <th class=\"col_heading level0 col6\" >AvgFct</th>        <th class=\"col_heading level0 col7\" >SmallAvgFct</th>        <th class=\"col_heading level0 col8\" >Tail99</th>        <th class=\"col_heading level0 col9\" >LargeAvgFct</th>        <th class=\"col_heading level0 col10\" >BufferDroppedPackets</th>        <th class=\"col_heading level0 col11\" >AttackerSendPackets</th>        <th class=\"col_heading level0 col12\" >AttackerLargeAvgFct</th>        <th class=\"col_heading level0 col13\" >AvgThroughput</th>        <th class=\"col_heading level0 col14\" >SmallAvgThroughput</th>        <th class=\"col_heading level0 col15\" >LargeAvgThroughput</th>    </tr></thead><tbody>\n                <tr>\n                        <th id=\"T_07d691e6_3690_11eb_b38b_367dda732f87level0_row0\" class=\"row_heading level0 row0\" >1</th>\n                        <td id=\"T_07d691e6_3690_11eb_b38b_367dda732f87row0_col0\" class=\"data row0 col0\" >0</td>\n                        <td id=\"T_07d691e6_3690_11eb_b38b_367dda732f87row0_col1\" class=\"data row0 col1\" >1</td>\n                        <td id=\"T_07d691e6_3690_11eb_b38b_367dda732f87row0_col2\" class=\"data row0 col2\" >0.9</td>\n                        <td id=\"T_07d691e6_3690_11eb_b38b_367dda732f87row0_col3\" class=\"data row0 col3\" >2000</td>\n                        <td id=\"T_07d691e6_3690_11eb_b38b_367dda732f87row0_col4\" class=\"data row0 col4\" >150</td>\n                        <td id=\"T_07d691e6_3690_11eb_b38b_367dda732f87row0_col5\" class=\"data row0 col5\" >Tcp</td>\n                        <td id=\"T_07d691e6_3690_11eb_b38b_367dda732f87row0_col6\" class=\"data row0 col6\" >0.036200</td>\n                        <td id=\"T_07d691e6_3690_11eb_b38b_367dda732f87row0_col7\" class=\"data row0 col7\" >0.008786</td>\n                        <td id=\"T_07d691e6_3690_11eb_b38b_367dda732f87row0_col8\" class=\"data row0 col8\" >0.315552</td>\n                        <td id=\"T_07d691e6_3690_11eb_b38b_367dda732f87row0_col9\" class=\"data row0 col9\" >0.311277</td>\n                        <td id=\"T_07d691e6_3690_11eb_b38b_367dda732f87row0_col10\" class=\"data row0 col10\" >299,249</td>\n                        <td id=\"T_07d691e6_3690_11eb_b38b_367dda732f87row0_col11\" class=\"data row0 col11\" >392,949</td>\n                        <td id=\"T_07d691e6_3690_11eb_b38b_367dda732f87row0_col12\" class=\"data row0 col12\" >1.058169</td>\n                        <td id=\"T_07d691e6_3690_11eb_b38b_367dda732f87row0_col13\" class=\"data row0 col13\" >174.814435</td>\n                        <td id=\"T_07d691e6_3690_11eb_b38b_367dda732f87row0_col14\" class=\"data row0 col14\" >58.036164</td>\n                        <td id=\"T_07d691e6_3690_11eb_b38b_367dda732f87row0_col15\" class=\"data row0 col15\" >575.412764</td>\n            </tr>\n    </tbody></table>"
     },
     "metadata": {},
     "execution_count": 10
    }
   ],
   "source": [
    "df9 = df[(df.load == '0.9')]\n",
    "showConga(df9, \"yellow: 10%, red:20%, green: less than baseline\")"
   ]
  }
 ],
 "metadata": {
  "kernelspec": {
   "display_name": "Python 3",
   "language": "python",
   "name": "python3"
  },
  "language_info": {
   "codemirror_mode": {
    "name": "ipython",
    "version": 3
   },
   "file_extension": ".py",
   "mimetype": "text/x-python",
   "name": "python",
   "nbconvert_exporter": "python",
   "pygments_lexer": "ipython3",
   "version": "3.9.0-final"
  }
 },
 "nbformat": 4,
 "nbformat_minor": 1
}